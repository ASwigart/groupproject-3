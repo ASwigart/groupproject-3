{
 "cells": [
  {
   "cell_type": "code",
   "execution_count": 3,
   "id": "de3bdd8d",
   "metadata": {},
   "outputs": [],
   "source": [
    "import numpy as np\n",
    "import sqlalchemy"
   ]
  },
  {
   "cell_type": "code",
   "execution_count": 4,
   "id": "6dcc8e9c",
   "metadata": {},
   "outputs": [
    {
     "ename": "SyntaxError",
     "evalue": "invalid syntax (2868348422.py, line 5)",
     "output_type": "error",
     "traceback": [
      "\u001b[0;36m  File \u001b[0;32m\"/var/folders/v0/fgqm4drj0fv_rywhmh177t240000gp/T/ipykernel_56558/2868348422.py\"\u001b[0;36m, line \u001b[0;32m5\u001b[0m\n\u001b[0;31m    from flask-cors import CORS\u001b[0m\n\u001b[0m              ^\u001b[0m\n\u001b[0;31mSyntaxError\u001b[0m\u001b[0;31m:\u001b[0m invalid syntax\n"
     ]
    }
   ],
   "source": [
    "from sqlalchemy.ext.automap import automap_base\n",
    "from sqlalchemy.orm import Session\n",
    "from sqlalchemy import create_engine, func\n",
    "from flask import Flask, jsonify\n",
    "from flask-cors import CORS"
   ]
  },
  {
   "cell_type": "code",
   "execution_count": null,
   "id": "329e7fd3",
   "metadata": {},
   "outputs": [],
   "source": [
    "# DB set-up\n",
    "engine = create_engine(\"sqlite:///___________.sqlite\")\n",
    "# reflect an existing DB\n",
    "Base = automap_base()\n",
    "# reflect tables\n",
    "Base.prepare(engine, reflect=True)\n",
    "# save reference to table\n",
    "Refugee = Base.classes."
   ]
  },
  {
   "cell_type": "code",
   "execution_count": null,
   "id": "60cda223",
   "metadata": {},
   "outputs": [],
   "source": [
    "# Flask Set up\n",
    "app = Flask(__name__)"
   ]
  },
  {
   "cell_type": "code",
   "execution_count": null,
   "id": "c6fcf78d",
   "metadata": {},
   "outputs": [],
   "source": [
    "@app.route(\"/\")\n",
    "def welcome():\n",
    "    \"\"\" List all api routes.\"\"\"\n",
    "    return (\n",
    "    f\"Available routes:<br/>\"\n",
    "    f\"/api/v1.0/from80to2021<br/>\"\n",
    "    f\"/api/v1.0/worldwide<br/>\"\n",
    "    f\"/api/v1.0/individual-aslyum\" \n",
    "    f\"/api/V1.0/regions\"\n",
    "    )"
   ]
  },
  {
   "cell_type": "code",
   "execution_count": null,
   "id": "3c11cc7d",
   "metadata": {},
   "outputs": [],
   "source": [
    "@app.route(\"/api/v1.0/from80to2021<br/>\")"
   ]
  },
  {
   "cell_type": "code",
   "execution_count": null,
   "id": "4fd1ccf5",
   "metadata": {},
   "outputs": [],
   "source": [
    "@app.route(\"/api/v1.0/worldwide<br/>\")"
   ]
  },
  {
   "cell_type": "code",
   "execution_count": null,
   "id": "6ce694ac",
   "metadata": {},
   "outputs": [],
   "source": [
    "@app.route(\"/api/v1.0/individual-aslyum\")"
   ]
  },
  {
   "cell_type": "code",
   "execution_count": null,
   "id": "dc51e501",
   "metadata": {},
   "outputs": [],
   "source": [
    "@app.route(\"/api/v1.0/regions\")"
   ]
  }
 ],
 "metadata": {
  "kernelspec": {
   "display_name": "Python 3.7.7 ('PythonData')",
   "language": "python",
   "name": "python3"
  },
  "language_info": {
   "codemirror_mode": {
    "name": "ipython",
    "version": 3
   },
   "file_extension": ".py",
   "mimetype": "text/x-python",
   "name": "python",
   "nbconvert_exporter": "python",
   "pygments_lexer": "ipython3",
   "version": "3.7.7"
  },
  "vscode": {
   "interpreter": {
    "hash": "dc14952c071fc45a35fdb54869e3ce738aac4f231cd5c843ec9ae99b6138550a"
   }
  }
 },
 "nbformat": 4,
 "nbformat_minor": 5
}
